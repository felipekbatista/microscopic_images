{
  "nbformat": 4,
  "nbformat_minor": 0,
  "metadata": {
    "colab": {
      "name": "git_v3.1.ipynb",
      "provenance": [],
      "authorship_tag": "ABX9TyO03C8UHmk1toXpUhBDU/DN",
      "include_colab_link": true
    },
    "kernelspec": {
      "name": "python3",
      "display_name": "Python 3"
    }
  },
  "cells": [
    {
      "cell_type": "markdown",
      "metadata": {
        "id": "view-in-github",
        "colab_type": "text"
      },
      "source": [
        "<a href=\"https://colab.research.google.com/github/felipekbatista/microscopic_images/blob/master/microscopic_images/code_versions/git_v3/git_v3_1.ipynb\" target=\"_parent\"><img src=\"https://colab.research.google.com/assets/colab-badge.svg\" alt=\"Open In Colab\"/></a>"
      ]
    },
    {
      "cell_type": "code",
      "metadata": {
        "id": "gXHG2TxBj40W"
      },
      "source": [
        "# My first git upload"
      ],
      "execution_count": 1,
      "outputs": []
    },
    {
      "cell_type": "markdown",
      "metadata": {
        "id": "WqUWwNMCkTyK"
      },
      "source": [
        "texto escrito aqui\n",
        "# ìndice lvl 1"
      ]
    },
    {
      "cell_type": "markdown",
      "metadata": {
        "id": "QvfZRTHckmpD"
      },
      "source": [
        "Alterações #2 realizadas: novas linhas de texto e código adicionadas"
      ]
    },
    {
      "cell_type": "code",
      "metadata": {
        "id": "ehNo_0AHkSqr"
      },
      "source": [
        "# linha de código #2 adicionada"
      ],
      "execution_count": 2,
      "outputs": []
    },
    {
      "cell_type": "markdown",
      "metadata": {
        "id": "SE-gDhFHmB-S"
      },
      "source": [
        "# índice lvl 1 - v3\n",
        "alterações #3 realizadas:\n",
        "adição de cálculos e printos"
      ]
    },
    {
      "cell_type": "code",
      "metadata": {
        "id": "TvlIViWgkxtz",
        "outputId": "ac9af190-846b-4be1-8447-26b2bf66d9b0",
        "colab": {
          "base_uri": "https://localhost:8080/",
          "height": 51
        }
      },
      "source": [
        "a = 1\n",
        "b = 2\n",
        "c = 3\n",
        "print('a + b = ', a + b)\n",
        "print('a*b = ', a*b)"
      ],
      "execution_count": 4,
      "outputs": [
        {
          "output_type": "stream",
          "text": [
            "a + b =  3\n",
            "a*b =  2\n"
          ],
          "name": "stdout"
        }
      ]
    },
    {
      "cell_type": "markdown",
      "metadata": {
        "id": "oQ_0mtyrujb0"
      },
      "source": [
        "Save this into code_versionf folder"
      ]
    },
    {
      "cell_type": "code",
      "metadata": {
        "id": "SeIyknJjl7Ct"
      },
      "source": [
        ""
      ],
      "execution_count": null,
      "outputs": []
    }
  ]
}