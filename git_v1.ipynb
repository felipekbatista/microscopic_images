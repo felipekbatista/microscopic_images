{
  "nbformat": 4,
  "nbformat_minor": 0,
  "metadata": {
    "colab": {
      "name": "git_v1.ipynb",
      "provenance": [],
      "authorship_tag": "ABX9TyMRIN+FN09xLw/g9r7GAOak",
      "include_colab_link": true
    },
    "kernelspec": {
      "name": "python3",
      "display_name": "Python 3"
    }
  },
  "cells": [
    {
      "cell_type": "markdown",
      "metadata": {
        "id": "view-in-github",
        "colab_type": "text"
      },
      "source": [
        "<a href=\"https://colab.research.google.com/github/felipekbatista/microscopic_images/blob/master/git_v1.ipynb\" target=\"_parent\"><img src=\"https://colab.research.google.com/assets/colab-badge.svg\" alt=\"Open In Colab\"/></a>"
      ]
    },
    {
      "cell_type": "code",
      "metadata": {
        "id": "gXHG2TxBj40W"
      },
      "source": [
        "# My first git upload"
      ],
      "execution_count": 1,
      "outputs": []
    },
    {
      "cell_type": "markdown",
      "metadata": {
        "id": "WqUWwNMCkTyK"
      },
      "source": [
        "texto escrito aqui\n",
        "# ìndice lvl 1"
      ]
    },
    {
      "cell_type": "code",
      "metadata": {
        "id": "ehNo_0AHkSqr"
      },
      "source": [
        ""
      ],
      "execution_count": null,
      "outputs": []
    }
  ]
}