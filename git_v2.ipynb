{
  "nbformat": 4,
  "nbformat_minor": 0,
  "metadata": {
    "colab": {
      "name": "git_v1.ipynb",
      "provenance": [],
      "authorship_tag": "ABX9TyMijfpgmNBepvjuNjgubHlY",
      "include_colab_link": true
    },
    "kernelspec": {
      "name": "python3",
      "display_name": "Python 3"
    }
  },
  "cells": [
    {
      "cell_type": "markdown",
      "metadata": {
        "id": "view-in-github",
        "colab_type": "text"
      },
      "source": [
        "<a href=\"https://colab.research.google.com/github/felipekbatista/microscopic_images/blob/master/git_v2.ipynb\" target=\"_parent\"><img src=\"https://colab.research.google.com/assets/colab-badge.svg\" alt=\"Open In Colab\"/></a>"
      ]
    },
    {
      "cell_type": "code",
      "metadata": {
        "id": "gXHG2TxBj40W"
      },
      "source": [
        "# My first git upload"
      ],
      "execution_count": 1,
      "outputs": []
    },
    {
      "cell_type": "markdown",
      "metadata": {
        "id": "WqUWwNMCkTyK"
      },
      "source": [
        "texto escrito aqui\n",
        "# ìndice lvl 1"
      ]
    },
    {
      "cell_type": "markdown",
      "metadata": {
        "id": "QvfZRTHckmpD"
      },
      "source": [
        "Alterações #2 realizadas: novas linhas de texto e código adicionadas"
      ]
    },
    {
      "cell_type": "code",
      "metadata": {
        "id": "ehNo_0AHkSqr"
      },
      "source": [
        "# linha de código #2 adicionada"
      ],
      "execution_count": 2,
      "outputs": []
    },
    {
      "cell_type": "code",
      "metadata": {
        "id": "TvlIViWgkxtz"
      },
      "source": [
        ""
      ],
      "execution_count": null,
      "outputs": []
    }
  ]
}